{
 "cells": [
  {
   "cell_type": "code",
   "execution_count": 1,
   "metadata": {},
   "outputs": [
    {
     "name": "stderr",
     "output_type": "stream",
     "text": [
      "/Library/Frameworks/Python.framework/Versions/3.12/lib/python3.12/site-packages/tqdm/auto.py:21: TqdmWarning: IProgress not found. Please update jupyter and ipywidgets. See https://ipywidgets.readthedocs.io/en/stable/user_install.html\n",
      "  from .autonotebook import tqdm as notebook_tqdm\n"
     ]
    }
   ],
   "source": [
    "from thought_tracing import ThoughtTracing\n",
    "from thought_prompt import *\n",
    "from datasets import load_dataset\n",
    "import os\n",
    "from tqdm import tqdm"
   ]
  },
  {
   "cell_type": "code",
   "execution_count": 2,
   "metadata": {},
   "outputs": [],
   "source": [
    "n = 100\n",
    "\n",
    "dataset = load_dataset(\"Chuanyang-Jin/MMToM-QA\")\n",
    "dataset = dataset.map(lambda example, idx: {\"id\": idx}, with_indices=True)\n",
    "dataset = dataset[\"train\"].shuffle(seed=43).select(range(n))"
   ]
  },
  {
   "cell_type": "code",
   "execution_count": 3,
   "metadata": {},
   "outputs": [
    {
     "name": "stderr",
     "output_type": "stream",
     "text": [
      "100%|██████████| 10/10 [02:55<00:00, 17.51s/it]"
     ]
    },
    {
     "name": "stdout",
     "output_type": "stream",
     "text": [
      "Average uncertainty: 0.26437719538904947\n"
     ]
    },
    {
     "name": "stderr",
     "output_type": "stream",
     "text": [
      "\n"
     ]
    }
   ],
   "source": [
    "avg_uncertainty = 0\n",
    "n = 0\n",
    "thresholder_scout = ThoughtTracing(\n",
    "    parse_prompt=parse_prompt,\n",
    "    hypothesis_prompt=hypothesis_prompt,\n",
    "    rejuvenate_prompt=rejuvenate_prompt,\n",
    "    summary_prompt=summary_prompt,\n",
    "    CoT_prompt=CoT_prompt,\n",
    "    conclusion_prompt=conclusion_prompt,\n",
    "    mode='CoT',\n",
    "    base_model=\"gpt-4o-mini\",\n",
    "    temperature=0.23,\n",
    "    max_steps=10,\n",
    "    N=5,\n",
    ")\n",
    "\n",
    "for i in tqdm(range(10)):\n",
    "    raw = dataset[i][\"question\"].split(\"Question:\")\n",
    "    input = \"\".join(raw[:-1])\n",
    "    question = raw[-1]\n",
    "    answer = dataset[i][\"answer\"]\n",
    "    acc, model_answer, reasoning, history, tokens = thresholder_scout.infer(input, question, answer)\n",
    "    if acc == -1:\n",
    "        continue\n",
    "    elif acc == -2:\n",
    "        print(\"Case\", dataset[i]['id'], \"parsing error\")\n",
    "        continue\n",
    "    n += 1\n",
    "    avg_uncertainty += thresholder_scout.avg_uncertainty\n",
    "\n",
    "print(\"Average uncertainty:\", avg_uncertainty / n)"
   ]
  },
  {
   "cell_type": "code",
   "execution_count": 3,
   "metadata": {},
   "outputs": [
    {
     "name": "stdout",
     "output_type": "stream",
     "text": [
      "Trace\n"
     ]
    },
    {
     "name": "stderr",
     "output_type": "stream",
     "text": [
      " 36%|███▌      | 36/100 [24:04<42:15, 39.62s/it]  "
     ]
    },
    {
     "name": "stdout",
     "output_type": "stream",
     "text": [
      "~~~~~~~~~~~~~~~~~~~~~~~~~~~~~~~~~~~~~~~~~~~~~~~~~~~~~~~~~~~~~~~~~~~~~~~~~~~~~~~~~~~~~~~~~~~~~~~~~~~~\n",
      "index 5 is out of bounds for axis 0 with size 5\n",
      "~~~~~~~~~~~~~~~~~~~~~~~~~~~~~~~~~~~~~~~~~~~~~~~~~~~~~~~~~~~~~~~~~~~~~~~~~~~~~~~~~~~~~~~~~~~~~~~~~~~~\n",
      "Case 120 parsing error\n"
     ]
    },
    {
     "name": "stderr",
     "output_type": "stream",
     "text": [
      " 44%|████▍     | 44/100 [30:48<46:07, 49.42s/it]"
     ]
    },
    {
     "name": "stdout",
     "output_type": "stream",
     "text": [
      "~~~~~~~~~~~~~~~~~~~~~~~~~~~~~~~~~~~~~~~~~~~~~~~~~~~~~~~~~~~~~~~~~~~~~~~~~~~~~~~~~~~~~~~~~~~~~~~~~~~~\n",
      "index 5 is out of bounds for axis 0 with size 5\n",
      "~~~~~~~~~~~~~~~~~~~~~~~~~~~~~~~~~~~~~~~~~~~~~~~~~~~~~~~~~~~~~~~~~~~~~~~~~~~~~~~~~~~~~~~~~~~~~~~~~~~~\n",
      "Case 564 parsing error\n"
     ]
    },
    {
     "name": "stderr",
     "output_type": "stream",
     "text": [
      " 73%|███████▎  | 73/100 [51:46<24:01, 53.38s/it]"
     ]
    },
    {
     "name": "stdout",
     "output_type": "stream",
     "text": [
      "~~~~~~~~~~~~~~~~~~~~~~~~~~~~~~~~~~~~~~~~~~~~~~~~~~~~~~~~~~~~~~~~~~~~~~~~~~~~~~~~~~~~~~~~~~~~~~~~~~~~\n",
      "index 5 is out of bounds for axis 0 with size 5\n",
      "~~~~~~~~~~~~~~~~~~~~~~~~~~~~~~~~~~~~~~~~~~~~~~~~~~~~~~~~~~~~~~~~~~~~~~~~~~~~~~~~~~~~~~~~~~~~~~~~~~~~\n",
      "Case 21 parsing error\n"
     ]
    },
    {
     "name": "stderr",
     "output_type": "stream",
     "text": [
      " 77%|███████▋  | 77/100 [54:11<15:25, 40.24s/it]"
     ]
    },
    {
     "name": "stdout",
     "output_type": "stream",
     "text": [
      "~~~~~~~~~~~~~~~~~~~~~~~~~~~~~~~~~~~~~~~~~~~~~~~~~~~~~~~~~~~~~~~~~~~~~~~~~~~~~~~~~~~~~~~~~~~~~~~~~~~~\n",
      "index 5 is out of bounds for axis 0 with size 5\n",
      "~~~~~~~~~~~~~~~~~~~~~~~~~~~~~~~~~~~~~~~~~~~~~~~~~~~~~~~~~~~~~~~~~~~~~~~~~~~~~~~~~~~~~~~~~~~~~~~~~~~~\n",
      "Case 299 parsing error\n"
     ]
    },
    {
     "name": "stderr",
     "output_type": "stream",
     "text": [
      " 83%|████████▎ | 83/100 [57:42<09:42, 34.27s/it]"
     ]
    },
    {
     "name": "stdout",
     "output_type": "stream",
     "text": [
      "~~~~~~~~~~~~~~~~~~~~~~~~~~~~~~~~~~~~~~~~~~~~~~~~~~~~~~~~~~~~~~~~~~~~~~~~~~~~~~~~~~~~~~~~~~~~~~~~~~~~\n",
      "index 5 is out of bounds for axis 0 with size 5\n",
      "~~~~~~~~~~~~~~~~~~~~~~~~~~~~~~~~~~~~~~~~~~~~~~~~~~~~~~~~~~~~~~~~~~~~~~~~~~~~~~~~~~~~~~~~~~~~~~~~~~~~\n",
      "Case 541 parsing error\n"
     ]
    },
    {
     "name": "stderr",
     "output_type": "stream",
     "text": [
      " 92%|█████████▏| 92/100 [1:02:48<04:00, 30.10s/it]"
     ]
    },
    {
     "name": "stdout",
     "output_type": "stream",
     "text": [
      "~~~~~~~~~~~~~~~~~~~~~~~~~~~~~~~~~~~~~~~~~~~~~~~~~~~~~~~~~~~~~~~~~~~~~~~~~~~~~~~~~~~~~~~~~~~~~~~~~~~~\n",
      "index 5 is out of bounds for axis 0 with size 5\n",
      "~~~~~~~~~~~~~~~~~~~~~~~~~~~~~~~~~~~~~~~~~~~~~~~~~~~~~~~~~~~~~~~~~~~~~~~~~~~~~~~~~~~~~~~~~~~~~~~~~~~~\n",
      "Case 538 parsing error\n"
     ]
    },
    {
     "name": "stderr",
     "output_type": "stream",
     "text": [
      "100%|██████████| 100/100 [1:09:00<00:00, 41.41s/it]\n"
     ]
    },
    {
     "name": "stdout",
     "output_type": "stream",
     "text": [
      "0.5526315789473685\n",
      "76\n",
      "(933677, 158632)\n",
      "CoT\n"
     ]
    },
    {
     "name": "stderr",
     "output_type": "stream",
     "text": [
      "100%|██████████| 100/100 [37:49<00:00, 22.70s/it]\n"
     ]
    },
    {
     "name": "stdout",
     "output_type": "stream",
     "text": [
      "0.6585365853658537\n",
      "82\n",
      "(604608, 76592)\n",
      "Hybrid\n"
     ]
    },
    {
     "name": "stderr",
     "output_type": "stream",
     "text": [
      " 83%|████████▎ | 83/100 [51:07<08:32, 30.13s/it]  "
     ]
    },
    {
     "name": "stdout",
     "output_type": "stream",
     "text": [
      "~~~~~~~~~~~~~~~~~~~~~~~~~~~~~~~~~~~~~~~~~~~~~~~~~~~~~~~~~~~~~~~~~~~~~~~~~~~~~~~~~~~~~~~~~~~~~~~~~~~~\n",
      "index 5 is out of bounds for axis 0 with size 5\n",
      "~~~~~~~~~~~~~~~~~~~~~~~~~~~~~~~~~~~~~~~~~~~~~~~~~~~~~~~~~~~~~~~~~~~~~~~~~~~~~~~~~~~~~~~~~~~~~~~~~~~~\n",
      "Case 541 parsing error\n"
     ]
    },
    {
     "name": "stderr",
     "output_type": "stream",
     "text": [
      "100%|██████████| 100/100 [1:01:23<00:00, 36.84s/it]"
     ]
    },
    {
     "name": "stdout",
     "output_type": "stream",
     "text": [
      "0.573170731707317\n",
      "82\n",
      "(981659, 139386)\n"
     ]
    },
    {
     "name": "stderr",
     "output_type": "stream",
     "text": [
      "\n"
     ]
    }
   ],
   "source": [
    "overall_acc = []\n",
    "overall_tokens = []\n",
    "modes = [\"Trace\", \"CoT\", \"Hybrid\"]\n",
    "\n",
    "for mode in modes:\n",
    "    n = 0\n",
    "    thought_tracing = ThoughtTracing(\n",
    "        parse_prompt=parse_prompt,\n",
    "        hypothesis_prompt=hypothesis_prompt,\n",
    "        rejuvenate_prompt=rejuvenate_prompt,\n",
    "        summary_prompt=summary_prompt,\n",
    "        CoT_prompt=CoT_prompt,\n",
    "        conclusion_prompt=conclusion_prompt,\n",
    "        mode=mode,\n",
    "        base_model=\"gpt-4o-mini\",\n",
    "        temperature=0.23,\n",
    "        max_steps=12,\n",
    "        uncertainty_threshold=0.3,\n",
    "        N=5,\n",
    "    )\n",
    "\n",
    "    total_acc = 0\n",
    "    total_tokens = (0, 0)\n",
    "\n",
    "    os.makedirs(f\"./{mode}_failed_cases\", exist_ok=True)\n",
    "    print(mode)\n",
    "    for i in tqdm(range(len(dataset))):\n",
    "        raw = dataset[i][\"question\"].split(\"Question:\")\n",
    "        input = \"\".join(raw[:-1])\n",
    "        question = raw[-1]\n",
    "        answer = dataset[i][\"answer\"]\n",
    "        acc, model_answer, reasoning, history, tokens = thought_tracing.infer(input, question, answer)\n",
    "        if acc == -1:\n",
    "            continue\n",
    "        elif acc == -2:\n",
    "            print(\"Case\", dataset[i]['id'], \"parsing error\")\n",
    "            continue\n",
    "        n += 1\n",
    "        if not acc:\n",
    "            with open(f\"./{mode}_failed_cases/{dataset[i]['id']}.txt\", \"w\") as f:\n",
    "                f.write(f\"Input: {dataset[i]['question']}\\n\")\n",
    "                f.write(f\"Answer: {answer}\\n\")\n",
    "                f.write(f\"Model Answer: {model_answer}\\n\")\n",
    "                f.write(f\"Model Reasoning: {reasoning}\\n\")\n",
    "                f.write(f\"History: {history}\\n\")\n",
    "        total_acc += int(acc)\n",
    "        total_tokens = (total_tokens[0] + tokens[0], total_tokens[1] + tokens[1])\n",
    "    print(total_acc / n)\n",
    "    print(n)\n",
    "    print(total_tokens)\n",
    "    overall_acc.append(total_acc / n)\n",
    "    overall_tokens.append((total_tokens[0] / n, total_tokens[1] / n))"
   ]
  },
  {
   "cell_type": "code",
   "execution_count": 4,
   "metadata": {},
   "outputs": [
    {
     "data": {
      "image/png": "[encoded data removed]",
      "text/plain": [
       "<Figure size 1000x600 with 2 Axes>"
      ]
     },
     "metadata": {},
     "output_type": "display_data"
    }
   ],
   "source": [
    "import matplotlib.pyplot as plt\n",
    "import numpy as np\n",
    "\n",
    "prompt_tokens = [i[0] for i in overall_tokens]\n",
    "completion_tokens = [i[1] for i in overall_tokens]\n",
    "x = np.arange(len(modes))\n",
    "width = 0.3\n",
    "\n",
    "fig, ax1 = plt.subplots(figsize=(10, 6))\n",
    "\n",
    "bars = ax1.bar(x, overall_acc, width, label='Accuracy', color='skyblue')\n",
    "ax1.set_ylabel('Accuracy', fontsize=12)\n",
    "ax1.set_ylim(0, 1)\n",
    "ax1.set_xticks(x)\n",
    "ax1.set_xticklabels(modes, fontsize=12)\n",
    "ax1.set_xlabel('Reasoning Mode', fontsize=12)\n",
    "ax1.set_title('Comparison of Reasoning Modes: Accuracy and Usage', fontsize=14)\n",
    "\n",
    "ax2 = ax1.twinx()\n",
    "ax2.plot(x, prompt_tokens, marker='o', label='Prompt Tokens', color='orange')\n",
    "ax2.plot(x, completion_tokens, marker='s', label='Completion Tokens', color='green')\n",
    "ax2.set_ylabel('Token Count', fontsize=12)\n",
    "\n",
    "lines, labels = ax1.get_legend_handles_labels()\n",
    "lines2, labels2 = ax2.get_legend_handles_labels()\n",
    "ax2.legend(lines + lines2, labels + labels2, loc='upper right')\n",
    "\n",
    "plt.tight_layout()\n",
    "plt.grid(True, axis='y', linestyle='--', alpha=0.7)\n",
    "plt.show()"
   ]
  }
 ],
 "metadata": {
  "kernelspec": {
   "display_name": "Python 3",
   "language": "python",
   "name": "python3"
  },
  "language_info": {
   "codemirror_mode": {
    "name": "ipython",
    "version": 3
   },
   "file_extension": ".py",
   "mimetype": "text/x-python",
   "name": "python",
   "nbconvert_exporter": "python",
   "pygments_lexer": "ipython3",
   "version": "3.12.7"
  }
 },
 "nbformat": 4,
 "nbformat_minor": 2
}
